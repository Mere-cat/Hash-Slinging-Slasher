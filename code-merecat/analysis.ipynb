{
 "cells": [
  {
   "cell_type": "markdown",
   "metadata": {},
   "source": [
    "# Data Analysis"
   ]
  },
  {
   "cell_type": "code",
   "execution_count": 2,
   "metadata": {},
   "outputs": [],
   "source": [
    "import numpy as np\n",
    "import pandas as pd\n",
    "from quantile_forest import RandomForestQuantileRegressor\n",
    "from sklearn.base import BaseEstimator, TransformerMixin\n",
    "from sklearn.impute import SimpleImputer\n",
    "from sklearn.model_selection import train_test_split\n",
    "from sklearn.preprocessing import OrdinalEncoder\n",
    "\n",
    "\n",
    "random_state = 0\n",
    "np.random.seed(random_state)\n",
    "\n",
    "# Competition variables.\n",
    "base_path = \"../prediction-interval-competition-ii-house-price/\"\n",
    "alpha = 0.1"
   ]
  },
  {
   "cell_type": "code",
   "execution_count": 3,
   "metadata": {},
   "outputs": [],
   "source": [
    "df = pd.read_csv(base_path + \"dataset.csv\", index_col=\"id\", parse_dates=[\"sale_date\"])\n",
    "df_test = pd.read_csv(base_path + \"test.csv\", index_col=\"id\", parse_dates=[\"sale_date\"])"
   ]
  },
  {
   "cell_type": "markdown",
   "metadata": {},
   "source": [
    "## Visualization"
   ]
  },
  {
   "cell_type": "code",
   "execution_count": 5,
   "metadata": {},
   "outputs": [
    {
     "name": "stdout",
     "output_type": "stream",
     "text": [
      "Index(['sale_date', 'sale_price', 'sale_nbr', 'sale_warning', 'join_status',\n",
      "       'join_year', 'latitude', 'longitude', 'area', 'city', 'zoning',\n",
      "       'subdivision', 'present_use', 'land_val', 'imp_val', 'year_built',\n",
      "       'year_reno', 'sqft_lot', 'sqft', 'sqft_1', 'sqft_fbsmt', 'grade',\n",
      "       'fbsmt_grade', 'condition', 'stories', 'beds', 'bath_full', 'bath_3qtr',\n",
      "       'bath_half', 'garb_sqft', 'gara_sqft', 'wfnt', 'golf', 'greenbelt',\n",
      "       'noise_traffic', 'view_rainier', 'view_olympics', 'view_cascades',\n",
      "       'view_territorial', 'view_skyline', 'view_sound', 'view_lakewash',\n",
      "       'view_lakesamm', 'view_otherwater', 'view_other', 'submarket'],\n",
      "      dtype='object')\n"
     ]
    }
   ],
   "source": [
    "print(df.columns)"
   ]
  },
  {
   "cell_type": "code",
   "execution_count": 9,
   "metadata": {},
   "outputs": [
    {
     "data": {
      "text/plain": [
       "defaultdict(int,\n",
       "            {'FEDERAL WAY': 7616,\n",
       "             'KIRKLAND': 8563,\n",
       "             'RENTON': 9368,\n",
       "             'BURIEN': 3823,\n",
       "             'KING COUNTY': 27127,\n",
       "             'SEATTLE': 59001,\n",
       "             'KENT': 9429,\n",
       "             'SAMMAMISH': 9563,\n",
       "             'AUBURN': 6249,\n",
       "             'COVINGTON': 3104,\n",
       "             'ISSAQUAH': 3671,\n",
       "             'BELLEVUE': 10691,\n",
       "             'MAPLE VALLEY': 4958,\n",
       "             'BOTHELL': 2124,\n",
       "             'SeaTac': 1571,\n",
       "             'REDMOND': 4782,\n",
       "             'LAKE FOREST PARK': 1410,\n",
       "             'KENMORE': 2561,\n",
       "             'NORTH BEND': 1033,\n",
       "             'NEWCASTLE': 1438,\n",
       "             'SHORELINE': 5142,\n",
       "             'WOODINVILLE': 1251,\n",
       "             'MERCER ISLAND': 2200,\n",
       "             'BLACK DIAMOND': 786,\n",
       "             'DES MOINES': 2620,\n",
       "             'SEA-TAC': 160,\n",
       "             'SNOQUALMIE': 2576,\n",
       "             'TUKWILA': 1102,\n",
       "             'DUVALL': 1485,\n",
       "             'PACIFIC': 602,\n",
       "             'CARNATION': 354,\n",
       "             'ENUMCLAW': 1643,\n",
       "             'ALGONA': 326,\n",
       "             'CLYDE HILL': 331,\n",
       "             'MEDINA': 291,\n",
       "             'NORMANDY PARK': 682,\n",
       "             'MILTON': 171,\n",
       "             'BEAUX ARTS': 43,\n",
       "             'SKYKOMISH': 28,\n",
       "             'HUNTS POINT': 29,\n",
       "             'YARROW POINT': 96})"
      ]
     },
     "metadata": {},
     "output_type": "display_data"
    }
   ],
   "source": [
    "from collections import defaultdict\n",
    "\n",
    "dict_cnt = defaultdict(int)\n",
    "target = df['city']\n",
    "\n",
    "for row in target:\n",
    "    dict_cnt[row] += 1\n",
    "\n",
    "display(dict_cnt)"
   ]
  },
  {
   "cell_type": "code",
   "execution_count": 8,
   "metadata": {},
   "outputs": [
    {
     "data": {
      "text/plain": [
       "defaultdict(float,\n",
       "            {'FEDERAL WAY': 2636423788.0,\n",
       "             'KIRKLAND': 6275040576.0,\n",
       "             'RENTON': 4101012748.0,\n",
       "             'BURIEN': 1529973484.0,\n",
       "             'KING COUNTY': 15160733148.0,\n",
       "             'SEATTLE': 37070301267.0,\n",
       "             'KENT': 3464675325.0,\n",
       "             'SAMMAMISH': 7362169691.0,\n",
       "             'AUBURN': 2235434831.0,\n",
       "             'COVINGTON': 1086358346.0,\n",
       "             'ISSAQUAH': 2706800190.0,\n",
       "             'BELLEVUE': 8952149663.0,\n",
       "             'MAPLE VALLEY': 2034117294.0,\n",
       "             'BOTHELL': 1317291529.0,\n",
       "             'SeaTac': 493835565.0,\n",
       "             'REDMOND': 3445516216.0,\n",
       "             'LAKE FOREST PARK': 829376157.0,\n",
       "             'KENMORE': 1465381635.0,\n",
       "             'NORTH BEND': 676486038.0,\n",
       "             'NEWCASTLE': 1168353904.0,\n",
       "             'SHORELINE': 2511506996.0,\n",
       "             'WOODINVILLE': 824492503.0,\n",
       "             'MERCER ISLAND': 2672095751.0,\n",
       "             'BLACK DIAMOND': 422692789.0,\n",
       "             'DES MOINES': 972158780.0,\n",
       "             'SEA-TAC': 55787810.0,\n",
       "             'SNOQUALMIE': 1575161477.0,\n",
       "             'TUKWILA': 389754526.0,\n",
       "             'DUVALL': 737046399.0,\n",
       "             'PACIFIC': 181532984.0,\n",
       "             'CARNATION': 186298298.0,\n",
       "             'ENUMCLAW': 570943095.0,\n",
       "             'ALGONA': 87872013.0,\n",
       "             'CLYDE HILL': 469733422.0,\n",
       "             'MEDINA': 411712820.0,\n",
       "             'NORMANDY PARK': 445392752.0,\n",
       "             'MILTON': 58455617.0,\n",
       "             'BEAUX ARTS': 58151120.0,\n",
       "             'SKYKOMISH': 6811700.0,\n",
       "             'HUNTS POINT': 33107814.0,\n",
       "             'YARROW POINT': 147758877.0})"
      ]
     },
     "metadata": {},
     "output_type": "display_data"
    }
   ],
   "source": [
    "dict = defaultdict(float)\n",
    "target = df['city']\n",
    "\n",
    "for idx, row in df.iterrows():\n",
    "    city = row['city']\n",
    "    dict[city] += row['sale_price']\n",
    "\n",
    "display(dict)"
   ]
  },
  {
   "cell_type": "code",
   "execution_count": 12,
   "metadata": {},
   "outputs": [
    {
     "data": {
      "text/plain": [
       "defaultdict(float,\n",
       "            {'FEDERAL WAY': 346169.0898109244,\n",
       "             'KIRKLAND': 732808.6623846783,\n",
       "             'RENTON': 437768.2267292912,\n",
       "             'BURIEN': 400202.3238294533,\n",
       "             'KING COUNTY': 558879.8299848859,\n",
       "             'SEATTLE': 628299.5418213251,\n",
       "             'KENT': 367448.8625517022,\n",
       "             'SAMMAMISH': 769859.8442957231,\n",
       "             'AUBURN': 357726.8092494799,\n",
       "             'COVINGTON': 349986.58054123714,\n",
       "             'ISSAQUAH': 737346.8237537455,\n",
       "             'BELLEVUE': 837353.8175100551,\n",
       "             'MAPLE VALLEY': 410269.7244856797,\n",
       "             'BOTHELL': 620193.7518832391,\n",
       "             'SeaTac': 314344.7262889879,\n",
       "             'REDMOND': 720517.8201589293,\n",
       "             'LAKE FOREST PARK': 588210.0404255319,\n",
       "             'KENMORE': 572191.1889886763,\n",
       "             'NORTH BEND': 654875.1577928364,\n",
       "             'NEWCASTLE': 812485.3296244785,\n",
       "             'SHORELINE': 488429.9875534811,\n",
       "             'WOODINVILLE': 659066.7490007994,\n",
       "             'MERCER ISLAND': 1214588.9777272728,\n",
       "             'BLACK DIAMOND': 537777.0852417303,\n",
       "             'DES MOINES': 371052.9694656489,\n",
       "             'SEA-TAC': 348673.8125,\n",
       "             'SNOQUALMIE': 611475.7286490683,\n",
       "             'TUKWILA': 353679.24319419236,\n",
       "             'DUVALL': 496327.5414141414,\n",
       "             'PACIFIC': 301549.8073089701,\n",
       "             'CARNATION': 526266.3785310735,\n",
       "             'ENUMCLAW': 347500.3621424224,\n",
       "             'ALGONA': 269546.0521472393,\n",
       "             'CLYDE HILL': 1419134.2054380665,\n",
       "             'MEDINA': 1414820.6872852233,\n",
       "             'NORMANDY PARK': 653068.551319648,\n",
       "             'MILTON': 341845.7134502924,\n",
       "             'BEAUX ARTS': 1352351.6279069767,\n",
       "             'SKYKOMISH': 243275.0,\n",
       "             'HUNTS POINT': 1141648.7586206896,\n",
       "             'YARROW POINT': 1539154.96875})"
      ]
     },
     "metadata": {},
     "output_type": "display_data"
    }
   ],
   "source": [
    "dict_avg = defaultdict(float)\n",
    "for col in dict.keys():\n",
    "    dict_avg[col] = dict[col] / dict_cnt[col]\n",
    "\n",
    "display(dict_avg)"
   ]
  },
  {
   "cell_type": "code",
   "execution_count": null,
   "metadata": {},
   "outputs": [],
   "source": []
  }
 ],
 "metadata": {
  "kernelspec": {
   "display_name": "p311",
   "language": "python",
   "name": "python3"
  },
  "language_info": {
   "codemirror_mode": {
    "name": "ipython",
    "version": 3
   },
   "file_extension": ".py",
   "mimetype": "text/x-python",
   "name": "python",
   "nbconvert_exporter": "python",
   "pygments_lexer": "ipython3",
   "version": "3.11.11"
  }
 },
 "nbformat": 4,
 "nbformat_minor": 2
}
