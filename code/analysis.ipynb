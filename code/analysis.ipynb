{
 "cells": [
  {
   "cell_type": "markdown",
   "metadata": {},
   "source": [
    "# Data Analysis"
   ]
  },
  {
   "cell_type": "code",
   "execution_count": 2,
   "metadata": {},
   "outputs": [],
   "source": [
    "import numpy as np\n",
    "import pandas as pd\n",
    "from quantile_forest import RandomForestQuantileRegressor\n",
    "from sklearn.base import BaseEstimator, TransformerMixin\n",
    "from sklearn.impute import SimpleImputer\n",
    "from sklearn.model_selection import train_test_split\n",
    "from sklearn.preprocessing import OrdinalEncoder\n",
    "\n",
    "\n",
    "random_state = 0\n",
    "np.random.seed(random_state)\n",
    "\n",
    "# Competition variables.\n",
    "base_path = \"../prediction-interval-competition-ii-house-price/\"\n",
    "alpha = 0.1"
   ]
  },
  {
   "cell_type": "code",
   "execution_count": 3,
   "metadata": {},
   "outputs": [],
   "source": [
    "df = pd.read_csv(base_path + \"dataset.csv\", index_col=\"id\", parse_dates=[\"sale_date\"])\n",
    "df_test = pd.read_csv(base_path + \"test.csv\", index_col=\"id\", parse_dates=[\"sale_date\"])"
   ]
  },
  {
   "cell_type": "markdown",
   "metadata": {},
   "source": [
    "## Visualization"
   ]
  },
  {
   "cell_type": "code",
   "execution_count": 5,
   "metadata": {},
   "outputs": [
    {
     "name": "stdout",
     "output_type": "stream",
     "text": [
      "Index(['sale_date', 'sale_price', 'sale_nbr', 'sale_warning', 'join_status',\n",
      "       'join_year', 'latitude', 'longitude', 'area', 'city', 'zoning',\n",
      "       'subdivision', 'present_use', 'land_val', 'imp_val', 'year_built',\n",
      "       'year_reno', 'sqft_lot', 'sqft', 'sqft_1', 'sqft_fbsmt', 'grade',\n",
      "       'fbsmt_grade', 'condition', 'stories', 'beds', 'bath_full', 'bath_3qtr',\n",
      "       'bath_half', 'garb_sqft', 'gara_sqft', 'wfnt', 'golf', 'greenbelt',\n",
      "       'noise_traffic', 'view_rainier', 'view_olympics', 'view_cascades',\n",
      "       'view_territorial', 'view_skyline', 'view_sound', 'view_lakewash',\n",
      "       'view_lakesamm', 'view_otherwater', 'view_other', 'submarket'],\n",
      "      dtype='object')\n"
     ]
    }
   ],
   "source": [
    "print(df.columns)"
   ]
  },
  {
   "cell_type": "code",
   "execution_count": 5,
   "metadata": {},
   "outputs": [
    {
     "data": {
      "text/plain": [
       "defaultdict(int,\n",
       "            {'I': 15842,\n",
       "             'Q': 14005,\n",
       "             'K': 21002,\n",
       "             'G': 6144,\n",
       "             'P': 6971,\n",
       "             'B': 16289,\n",
       "             'D': 12404,\n",
       "             'O': 12528,\n",
       "             'L': 10579,\n",
       "             'R': 14404,\n",
       "             'J': 5789,\n",
       "             'N': 10052,\n",
       "             'E': 6743,\n",
       "             'M': 10722,\n",
       "             'A': 7588,\n",
       "             'F': 12401,\n",
       "             nan: 1717,\n",
       "             'H': 1057,\n",
       "             'C': 10091,\n",
       "             'S': 3672})"
      ]
     },
     "metadata": {},
     "output_type": "display_data"
    }
   ],
   "source": [
    "from collections import defaultdict\n",
    "\n",
    "dict = defaultdict(int)\n",
    "target = df['submarket']\n",
    "\n",
    "for row in target:\n",
    "    dict[row] += 1\n",
    "\n",
    "display(dict)"
   ]
  },
  {
   "cell_type": "code",
   "execution_count": null,
   "metadata": {},
   "outputs": [],
   "source": []
  },
  {
   "cell_type": "code",
   "execution_count": null,
   "metadata": {},
   "outputs": [],
   "source": []
  }
 ],
 "metadata": {
  "kernelspec": {
   "display_name": "p311",
   "language": "python",
   "name": "python3"
  },
  "language_info": {
   "codemirror_mode": {
    "name": "ipython",
    "version": 3
   },
   "file_extension": ".py",
   "mimetype": "text/x-python",
   "name": "python",
   "nbconvert_exporter": "python",
   "pygments_lexer": "ipython3",
   "version": "3.11.11"
  }
 },
 "nbformat": 4,
 "nbformat_minor": 2
}
